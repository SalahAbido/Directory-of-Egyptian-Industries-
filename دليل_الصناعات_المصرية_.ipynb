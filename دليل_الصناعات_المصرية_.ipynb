{
  "cells": [
    {
      "cell_type": "code",
      "execution_count": 11,
      "id": "4636ba3a",
      "metadata": {
        "id": "4636ba3a"
      },
      "outputs": [],
      "source": [
        "import requests\n",
        "from bs4 import BeautifulSoup \n",
        "import csv\n",
        "from itertools import zip_longest \n",
        "import pandas as pd \n",
        "from tqdm import tqdm\n",
        "import time "
      ]
    },
    {
      "cell_type": "code",
      "execution_count": 12,
      "id": "b0db6d05",
      "metadata": {
        "id": "b0db6d05"
      },
      "outputs": [],
      "source": [
        "Company_caegory_links=[]\n",
        "Company_city_links=[]\n",
        "company_name=[]\n",
        "company_category=[]\n",
        "company_city=[]\n",
        "company_activity=[]\n",
        "company_phone=[]\n",
        "company_link=[]"
      ]
    },
    {
      "cell_type": "code",
      "execution_count": 13,
      "id": "6536141e",
      "metadata": {
        "id": "6536141e"
      },
      "outputs": [],
      "source": [
        "main_link =\"https://www.egyptianindustry.com/\""
      ]
    },
    {
      "cell_type": "markdown",
      "id": "606a9aea",
      "metadata": {
        "id": "606a9aea"
      },
      "source": [
        "# finding all categorys and city links"
      ]
    },
    {
      "cell_type": "code",
      "execution_count": 14,
      "id": "03bb3bf3",
      "metadata": {
        "id": "03bb3bf3"
      },
      "outputs": [],
      "source": [
        "def find_categorys_city(main_link):\n",
        "  Company_caegory_links=[]\n",
        "  Company_city_links=[]\n",
        "  request = requests.get(main_link)\n",
        "  src =request.content\n",
        "  soup =BeautifulSoup(src ,\"lxml\")\n",
        "  Company_city_soup=soup.find(\"div\",{\"id\":\"demozones\"}).find(\"section\").find(\"div\").find_all(\"p\")\n",
        "  Company_category_soup=soup.find(\"div\",{\"id\":\"demo\"}).find(\"section\").find(\"div\").find_all(\"p\")\n",
        "\n",
        "  for i in tqdm(range(len(Company_city_soup))):\n",
        "      Company_city_links.append(Company_city_soup[i].find('a')['href'])\n",
        "  for i in tqdm(range(len(Company_category_soup))):\n",
        "      Company_caegory_links.append(Company_category_soup[i].find('a')['href'])\n",
        "  return Company_caegory_links ,Company_city_links"
      ]
    },
    {
      "cell_type": "code",
      "execution_count": 15,
      "id": "fdb3b1bf",
      "metadata": {
        "id": "fdb3b1bf",
        "colab": {
          "base_uri": "https://localhost:8080/"
        },
        "outputId": "4b432fda-b9fe-42ae-d043-e2373bdb6d1c"
      },
      "outputs": [
        {
          "output_type": "stream",
          "name": "stderr",
          "text": [
            "100%|██████████| 60/60 [00:00<00:00, 49617.16it/s]\n",
            "100%|██████████| 31/31 [00:00<00:00, 32449.07it/s]\n"
          ]
        }
      ],
      "source": [
        "Company_caegory_links ,Company_city_links=find_categorys_city(main_link)"
      ]
    },
    {
      "cell_type": "code",
      "source": [
        "len(Company_caegory_links)"
      ],
      "metadata": {
        "colab": {
          "base_uri": "https://localhost:8080/"
        },
        "id": "mG_xmm3HwztC",
        "outputId": "290f92ac-6550-427f-cd50-a7d053ae74b8"
      },
      "id": "mG_xmm3HwztC",
      "execution_count": 6,
      "outputs": [
        {
          "output_type": "execute_result",
          "data": {
            "text/plain": [
              "31"
            ]
          },
          "metadata": {},
          "execution_count": 6
        }
      ]
    },
    {
      "cell_type": "code",
      "source": [
        "# collect data with city area \n",
        "for t in tqdm(range(0,len(Company_city_links))):\n",
        "  request = requests.get(Company_city_links[t])\n",
        "  src =request.content\n",
        "  soup =BeautifulSoup(src ,\"lxml\")\n",
        "  try:\n",
        "    citys_length =int(soup.find(\"li\",{\"id\":\"news_next\"}).find_all(\"a\")[1][\"href\"].split(\"=\")[1])\n",
        "  except:\n",
        "    citys_length=1\n",
        "  for j in range(1,citys_length+1):\n",
        "    request = requests.get(Company_city_links[t]+\"?page=\"+str(j))\n",
        "    src =request.content\n",
        "    soup =BeautifulSoup(src ,\"lxml\")\n",
        "    names=soup.find_all(\"h1\",{\"class\":\"f-listings-item__title\"})\n",
        "    phones=soup.find_all(\"address\",{\"class\":\"f-listings-item__address\"})\n",
        "    category=soup.find_all(\"ul\",{\"class\":\"wil-icon-list\"})\n",
        "    for i in range(len(names)):\n",
        "        company_name.append(names[i].text)\n",
        "        company_link.append(names[i].find(\"a\")[\"href\"])\n",
        "        company_phone.append(phones[i].text[1:-1].split(\"\\n\")[0])\n",
        "        try:\n",
        "          company_activity.append(phones[i].text[1:-1].split(\"\\n\")[1])\n",
        "        except:\n",
        "          company_activity.append(\" غير محددة \")\n",
        "        company_category.append(category[i].find(\"li\").find(\"span\").find(\"h2\").text[1:].split(\"\\n\")[1].strip())\n",
        "        company_city.append(category[i].find(\"li\").find(\"span\").find(\"h2\").text[1:].split(\"\\n\")[0][:-3].strip())"
      ],
      "metadata": {
        "id": "pLZCadN2hdbS",
        "colab": {
          "base_uri": "https://localhost:8080/"
        },
        "outputId": "b618100d-bf48-4619-832d-c54e68b3e91b"
      },
      "id": "pLZCadN2hdbS",
      "execution_count": 7,
      "outputs": [
        {
          "output_type": "stream",
          "name": "stderr",
          "text": [
            "100%|██████████| 60/60 [14:49<00:00, 14.83s/it]\n"
          ]
        }
      ]
    },
    {
      "cell_type": "code",
      "source": [
        "len(company_activity)#11522"
      ],
      "metadata": {
        "id": "NbcQQJcwprN1",
        "colab": {
          "base_uri": "https://localhost:8080/"
        },
        "outputId": "02253f4c-1224-40ec-c1cd-c52d25df18e3"
      },
      "id": "NbcQQJcwprN1",
      "execution_count": 16,
      "outputs": [
        {
          "output_type": "execute_result",
          "data": {
            "text/plain": [
              "0"
            ]
          },
          "metadata": {},
          "execution_count": 16
        }
      ]
    },
    {
      "cell_type": "code",
      "source": [
        "# collect data with Company_caegorys area \n",
        "for t in tqdm(range(0,len(Company_caegory_links))):\n",
        "  request = requests.get(Company_caegory_links[t])\n",
        "  src =request.content\n",
        "  soup =BeautifulSoup(src ,\"lxml\")\n",
        "  try:\n",
        "    citys_length =int(soup.find(\"li\",{\"id\":\"news_next\"}).find_all(\"a\")[1][\"href\"].split(\"=\")[1])\n",
        "  except:\n",
        "    citys_length=1\n",
        "  for j in range(1,citys_length+1):\n",
        "    request = requests.get(Company_caegory_links[t]+\"?page=\"+str(j))\n",
        "    src =request.content\n",
        "    soup =BeautifulSoup(src ,\"lxml\")\n",
        "    names=soup.find_all(\"h1\",{\"class\":\"f-listings-item__title\"})\n",
        "    phones=soup.find_all(\"address\",{\"class\":\"f-listings-item__address\"})\n",
        "    category=soup.find_all(\"ul\",{\"class\":\"wil-icon-list\"})\n",
        "    for i in range(len(names)):\n",
        "        company_name.append(names[i].text)\n",
        "        company_link.append(names[i].find(\"a\")[\"href\"])\n",
        "        company_phone.append(phones[i].text[1:-1].split(\"\\n\")[0])\n",
        "        try:\n",
        "          company_activity.append(phones[i].text[1:-1].split(\"\\n\")[1])\n",
        "        except:\n",
        "          company_activity.append(\" غير محددة \")\n",
        "        company_category.append(category[i].find(\"li\").find(\"span\").find(\"h2\").text[1:].split(\"\\n\")[1].strip())\n",
        "        company_city.append(category[i].find(\"li\").find(\"span\").find(\"h2\").text[1:].split(\"\\n\")[0][:-3].strip())"
      ],
      "metadata": {
        "id": "010vLaDkxR4E",
        "colab": {
          "base_uri": "https://localhost:8080/"
        },
        "outputId": "0323f09c-7f3a-45d7-dfcf-70d804d0b3a2"
      },
      "execution_count": 17,
      "outputs": [
        {
          "output_type": "stream",
          "name": "stderr",
          "text": [
            "100%|██████████| 31/31 [15:50<00:00, 30.65s/it]\n"
          ]
        }
      ],
      "id": "010vLaDkxR4E"
    },
    {
      "cell_type": "code",
      "execution_count": 18,
      "id": "506616dc",
      "metadata": {
        "id": "506616dc",
        "colab": {
          "base_uri": "https://localhost:8080/",
          "height": 658
        },
        "outputId": "4827244d-4da6-438a-d7e1-c0fbb13d8239"
      },
      "outputs": [
        {
          "output_type": "execute_result",
          "data": {
            "text/plain": [
              "                                            company name  \\\n",
              "0                          شركة ثرى إم للصناعات المعدنية   \n",
              "1      شركة ريدى فينس للأسوار الجاهزة والملاعب | مبان...   \n",
              "2      مصنع المسلمى للأبواب الأوتوماتيكية | أبواب رول...   \n",
              "3      الشركة الأهلية للتصنيع | كبسولات ألومنيوم - أغ...   \n",
              "4      الشركة العالمية تكنو ميتال | وحدات تخزين معدن ...   \n",
              "...                                                  ...   \n",
              "11542  مصنع جاز مان لتعبئة إسطوانات البوتاجاز | تعبئة...   \n",
              "11543  مصنع جذور لإنتاج وتصدير الفحم النباتى | فحم ما...   \n",
              "11544                  مصنع سورس إيجيبت | خامات تعدينية    \n",
              "11545  مصنع وايت ستار أويل سلفنت | خطوط إنتاج زيوت - ...   \n",
              "11546    مكتب خدمات بترولية على كامل حسن | خدمات بترولية   \n",
              "\n",
              "                                  company phone  company category  \\\n",
              "0       هاتف المصنع:   0663758105 - 0663758106      تشغيل المعادن   \n",
              "1         الموبيل:   01001112523 - 01116665696      تشغيل المعادن   \n",
              "2       هاتف المصنع:   0554334033 - 0554334030      تشغيل المعادن   \n",
              "3                   هاتف المصنع:   0554410285       تشغيل المعادن   \n",
              "4                      الموبيل:   01000846938       تشغيل المعادن   \n",
              "...                                         ...               ...   \n",
              "11542                   الموبيل:   01000399023   البترول والتعدين   \n",
              "11543                   الموبيل:   01005554860   البترول والتعدين   \n",
              "11544                  الموبيل:   01009799906    البترول والتعدين   \n",
              "11545                 هاتف المصنع:   033424093   البترول والتعدين   \n",
              "11546               هاتف الإدارة:   0225163553   البترول والتعدين   \n",
              "\n",
              "                 company city  \\\n",
              "0               مدينة بورسعيد   \n",
              "1      مدينة السادس من أكتوبر   \n",
              "2       مدينة العاشر من رمضان   \n",
              "3       مدينة العاشر من رمضان   \n",
              "4       مدينة العاشر من رمضان   \n",
              "...                       ...   \n",
              "11542          مدينة الدقهلية   \n",
              "11543             مدينة دمياط   \n",
              "11544            مدينة المنيا   \n",
              "11545        مدينة الإسكندرية   \n",
              "11546           مدينة القاهرة   \n",
              "\n",
              "                                        company activity  \\\n",
              "0       النشاط:   تصنيع الهناجر (الجمالون) والخزانات ...   \n",
              "1       النشاط:   مبانى جاهزة - أسوار سابقة الصنع - ل...   \n",
              "2       النشاط:   أبواب رول - أبواب شتر - أبواب عالية...   \n",
              "3       النشاط:   كبسولات ألومنيوم - أغطية أدوية - أغ...   \n",
              "4              النشاط:   وحدات تخزين معدن - دواليب معدن    \n",
              "...                                                  ...   \n",
              "11542                 النشاط:   تعبئة إسطوانات البوتاجاز   \n",
              "11543   النشاط:   فحم مانجو - فحم ليمون - فحم برتقال ...   \n",
              "11544                           النشاط:   خامات تعدينية    \n",
              "11545   النشاط:   خطوط إنتاج زيوت - خطوط إنتاج مزيلات...   \n",
              "11546                            النشاط:   خدمات بترولية   \n",
              "\n",
              "                                            company link  \n",
              "0      https://www.egyptianindustry.com/SearchR/1/Pag...  \n",
              "1      https://www.egyptianindustry.com/SearchR/1/Pag...  \n",
              "2      https://www.egyptianindustry.com/SearchR/1/Pag...  \n",
              "3      https://www.egyptianindustry.com/SearchR/1/Pag...  \n",
              "4      https://www.egyptianindustry.com/SearchR/1/Pag...  \n",
              "...                                                  ...  \n",
              "11542  https://www.egyptianindustry.com/SearchR/1/Pag...  \n",
              "11543  https://www.egyptianindustry.com/SearchR/1/Pag...  \n",
              "11544  https://www.egyptianindustry.com/SearchR/1/Pag...  \n",
              "11545  https://www.egyptianindustry.com/SearchR/1/Pag...  \n",
              "11546  https://www.egyptianindustry.com/SearchR/1/Pag...  \n",
              "\n",
              "[11547 rows x 6 columns]"
            ],
            "text/html": [
              "\n",
              "  <div id=\"df-33768582-9c4d-4e80-80be-01e9a01665b1\">\n",
              "    <div class=\"colab-df-container\">\n",
              "      <div>\n",
              "<style scoped>\n",
              "    .dataframe tbody tr th:only-of-type {\n",
              "        vertical-align: middle;\n",
              "    }\n",
              "\n",
              "    .dataframe tbody tr th {\n",
              "        vertical-align: top;\n",
              "    }\n",
              "\n",
              "    .dataframe thead th {\n",
              "        text-align: right;\n",
              "    }\n",
              "</style>\n",
              "<table border=\"1\" class=\"dataframe\">\n",
              "  <thead>\n",
              "    <tr style=\"text-align: right;\">\n",
              "      <th></th>\n",
              "      <th>company name</th>\n",
              "      <th>company phone</th>\n",
              "      <th>company category</th>\n",
              "      <th>company city</th>\n",
              "      <th>company activity</th>\n",
              "      <th>company link</th>\n",
              "    </tr>\n",
              "  </thead>\n",
              "  <tbody>\n",
              "    <tr>\n",
              "      <th>0</th>\n",
              "      <td>شركة ثرى إم للصناعات المعدنية</td>\n",
              "      <td>هاتف المصنع:   0663758105 - 0663758106</td>\n",
              "      <td>تشغيل المعادن</td>\n",
              "      <td>مدينة بورسعيد</td>\n",
              "      <td>النشاط:   تصنيع الهناجر (الجمالون) والخزانات ...</td>\n",
              "      <td>https://www.egyptianindustry.com/SearchR/1/Pag...</td>\n",
              "    </tr>\n",
              "    <tr>\n",
              "      <th>1</th>\n",
              "      <td>شركة ريدى فينس للأسوار الجاهزة والملاعب | مبان...</td>\n",
              "      <td>الموبيل:   01001112523 - 01116665696</td>\n",
              "      <td>تشغيل المعادن</td>\n",
              "      <td>مدينة السادس من أكتوبر</td>\n",
              "      <td>النشاط:   مبانى جاهزة - أسوار سابقة الصنع - ل...</td>\n",
              "      <td>https://www.egyptianindustry.com/SearchR/1/Pag...</td>\n",
              "    </tr>\n",
              "    <tr>\n",
              "      <th>2</th>\n",
              "      <td>مصنع المسلمى للأبواب الأوتوماتيكية | أبواب رول...</td>\n",
              "      <td>هاتف المصنع:   0554334033 - 0554334030</td>\n",
              "      <td>تشغيل المعادن</td>\n",
              "      <td>مدينة العاشر من رمضان</td>\n",
              "      <td>النشاط:   أبواب رول - أبواب شتر - أبواب عالية...</td>\n",
              "      <td>https://www.egyptianindustry.com/SearchR/1/Pag...</td>\n",
              "    </tr>\n",
              "    <tr>\n",
              "      <th>3</th>\n",
              "      <td>الشركة الأهلية للتصنيع | كبسولات ألومنيوم - أغ...</td>\n",
              "      <td>هاتف المصنع:   0554410285</td>\n",
              "      <td>تشغيل المعادن</td>\n",
              "      <td>مدينة العاشر من رمضان</td>\n",
              "      <td>النشاط:   كبسولات ألومنيوم - أغطية أدوية - أغ...</td>\n",
              "      <td>https://www.egyptianindustry.com/SearchR/1/Pag...</td>\n",
              "    </tr>\n",
              "    <tr>\n",
              "      <th>4</th>\n",
              "      <td>الشركة العالمية تكنو ميتال | وحدات تخزين معدن ...</td>\n",
              "      <td>الموبيل:   01000846938</td>\n",
              "      <td>تشغيل المعادن</td>\n",
              "      <td>مدينة العاشر من رمضان</td>\n",
              "      <td>النشاط:   وحدات تخزين معدن - دواليب معدن</td>\n",
              "      <td>https://www.egyptianindustry.com/SearchR/1/Pag...</td>\n",
              "    </tr>\n",
              "    <tr>\n",
              "      <th>...</th>\n",
              "      <td>...</td>\n",
              "      <td>...</td>\n",
              "      <td>...</td>\n",
              "      <td>...</td>\n",
              "      <td>...</td>\n",
              "      <td>...</td>\n",
              "    </tr>\n",
              "    <tr>\n",
              "      <th>11542</th>\n",
              "      <td>مصنع جاز مان لتعبئة إسطوانات البوتاجاز | تعبئة...</td>\n",
              "      <td>الموبيل:   01000399023</td>\n",
              "      <td>البترول والتعدين</td>\n",
              "      <td>مدينة الدقهلية</td>\n",
              "      <td>النشاط:   تعبئة إسطوانات البوتاجاز</td>\n",
              "      <td>https://www.egyptianindustry.com/SearchR/1/Pag...</td>\n",
              "    </tr>\n",
              "    <tr>\n",
              "      <th>11543</th>\n",
              "      <td>مصنع جذور لإنتاج وتصدير الفحم النباتى | فحم ما...</td>\n",
              "      <td>الموبيل:   01005554860</td>\n",
              "      <td>البترول والتعدين</td>\n",
              "      <td>مدينة دمياط</td>\n",
              "      <td>النشاط:   فحم مانجو - فحم ليمون - فحم برتقال ...</td>\n",
              "      <td>https://www.egyptianindustry.com/SearchR/1/Pag...</td>\n",
              "    </tr>\n",
              "    <tr>\n",
              "      <th>11544</th>\n",
              "      <td>مصنع سورس إيجيبت | خامات تعدينية</td>\n",
              "      <td>الموبيل:   01009799906</td>\n",
              "      <td>البترول والتعدين</td>\n",
              "      <td>مدينة المنيا</td>\n",
              "      <td>النشاط:   خامات تعدينية</td>\n",
              "      <td>https://www.egyptianindustry.com/SearchR/1/Pag...</td>\n",
              "    </tr>\n",
              "    <tr>\n",
              "      <th>11545</th>\n",
              "      <td>مصنع وايت ستار أويل سلفنت | خطوط إنتاج زيوت - ...</td>\n",
              "      <td>هاتف المصنع:   033424093</td>\n",
              "      <td>البترول والتعدين</td>\n",
              "      <td>مدينة الإسكندرية</td>\n",
              "      <td>النشاط:   خطوط إنتاج زيوت - خطوط إنتاج مزيلات...</td>\n",
              "      <td>https://www.egyptianindustry.com/SearchR/1/Pag...</td>\n",
              "    </tr>\n",
              "    <tr>\n",
              "      <th>11546</th>\n",
              "      <td>مكتب خدمات بترولية على كامل حسن | خدمات بترولية</td>\n",
              "      <td>هاتف الإدارة:   0225163553</td>\n",
              "      <td>البترول والتعدين</td>\n",
              "      <td>مدينة القاهرة</td>\n",
              "      <td>النشاط:   خدمات بترولية</td>\n",
              "      <td>https://www.egyptianindustry.com/SearchR/1/Pag...</td>\n",
              "    </tr>\n",
              "  </tbody>\n",
              "</table>\n",
              "<p>11547 rows × 6 columns</p>\n",
              "</div>\n",
              "      <button class=\"colab-df-convert\" onclick=\"convertToInteractive('df-33768582-9c4d-4e80-80be-01e9a01665b1')\"\n",
              "              title=\"Convert this dataframe to an interactive table.\"\n",
              "              style=\"display:none;\">\n",
              "        \n",
              "  <svg xmlns=\"http://www.w3.org/2000/svg\" height=\"24px\"viewBox=\"0 0 24 24\"\n",
              "       width=\"24px\">\n",
              "    <path d=\"M0 0h24v24H0V0z\" fill=\"none\"/>\n",
              "    <path d=\"M18.56 5.44l.94 2.06.94-2.06 2.06-.94-2.06-.94-.94-2.06-.94 2.06-2.06.94zm-11 1L8.5 8.5l.94-2.06 2.06-.94-2.06-.94L8.5 2.5l-.94 2.06-2.06.94zm10 10l.94 2.06.94-2.06 2.06-.94-2.06-.94-.94-2.06-.94 2.06-2.06.94z\"/><path d=\"M17.41 7.96l-1.37-1.37c-.4-.4-.92-.59-1.43-.59-.52 0-1.04.2-1.43.59L10.3 9.45l-7.72 7.72c-.78.78-.78 2.05 0 2.83L4 21.41c.39.39.9.59 1.41.59.51 0 1.02-.2 1.41-.59l7.78-7.78 2.81-2.81c.8-.78.8-2.07 0-2.86zM5.41 20L4 18.59l7.72-7.72 1.47 1.35L5.41 20z\"/>\n",
              "  </svg>\n",
              "      </button>\n",
              "      \n",
              "  <style>\n",
              "    .colab-df-container {\n",
              "      display:flex;\n",
              "      flex-wrap:wrap;\n",
              "      gap: 12px;\n",
              "    }\n",
              "\n",
              "    .colab-df-convert {\n",
              "      background-color: #E8F0FE;\n",
              "      border: none;\n",
              "      border-radius: 50%;\n",
              "      cursor: pointer;\n",
              "      display: none;\n",
              "      fill: #1967D2;\n",
              "      height: 32px;\n",
              "      padding: 0 0 0 0;\n",
              "      width: 32px;\n",
              "    }\n",
              "\n",
              "    .colab-df-convert:hover {\n",
              "      background-color: #E2EBFA;\n",
              "      box-shadow: 0px 1px 2px rgba(60, 64, 67, 0.3), 0px 1px 3px 1px rgba(60, 64, 67, 0.15);\n",
              "      fill: #174EA6;\n",
              "    }\n",
              "\n",
              "    [theme=dark] .colab-df-convert {\n",
              "      background-color: #3B4455;\n",
              "      fill: #D2E3FC;\n",
              "    }\n",
              "\n",
              "    [theme=dark] .colab-df-convert:hover {\n",
              "      background-color: #434B5C;\n",
              "      box-shadow: 0px 1px 3px 1px rgba(0, 0, 0, 0.15);\n",
              "      filter: drop-shadow(0px 1px 2px rgba(0, 0, 0, 0.3));\n",
              "      fill: #FFFFFF;\n",
              "    }\n",
              "  </style>\n",
              "\n",
              "      <script>\n",
              "        const buttonEl =\n",
              "          document.querySelector('#df-33768582-9c4d-4e80-80be-01e9a01665b1 button.colab-df-convert');\n",
              "        buttonEl.style.display =\n",
              "          google.colab.kernel.accessAllowed ? 'block' : 'none';\n",
              "\n",
              "        async function convertToInteractive(key) {\n",
              "          const element = document.querySelector('#df-33768582-9c4d-4e80-80be-01e9a01665b1');\n",
              "          const dataTable =\n",
              "            await google.colab.kernel.invokeFunction('convertToInteractive',\n",
              "                                                     [key], {});\n",
              "          if (!dataTable) return;\n",
              "\n",
              "          const docLinkHtml = 'Like what you see? Visit the ' +\n",
              "            '<a target=\"_blank\" href=https://colab.research.google.com/notebooks/data_table.ipynb>data table notebook</a>'\n",
              "            + ' to learn more about interactive tables.';\n",
              "          element.innerHTML = '';\n",
              "          dataTable['output_type'] = 'display_data';\n",
              "          await google.colab.output.renderOutput(dataTable, element);\n",
              "          const docLink = document.createElement('div');\n",
              "          docLink.innerHTML = docLinkHtml;\n",
              "          element.appendChild(docLink);\n",
              "        }\n",
              "      </script>\n",
              "    </div>\n",
              "  </div>\n",
              "  "
            ]
          },
          "metadata": {},
          "execution_count": 18
        }
      ],
      "source": [
        "df=pd.DataFrame({\n",
        "    \"company name\":company_name,\n",
        "    \"company phone\":company_phone,\n",
        "    \"company category\":company_category,\n",
        "    \"company city\":company_city,\n",
        "    \"company activity\":company_activity,\n",
        "    \"company link\":company_link\n",
        "})\n",
        "df"
      ]
    },
    {
      "cell_type": "code",
      "execution_count": 19,
      "id": "298b9a22",
      "metadata": {
        "id": "298b9a22"
      },
      "outputs": [],
      "source": [
        "df.to_excel(\" دليل الصناعات المصرية نسخة القطاعات الصناعية .xlsx\")"
      ]
    }
  ],
  "metadata": {
    "kernelspec": {
      "display_name": "Python 3 (ipykernel)",
      "language": "python",
      "name": "python3"
    },
    "language_info": {
      "codemirror_mode": {
        "name": "ipython",
        "version": 3
      },
      "file_extension": ".py",
      "mimetype": "text/x-python",
      "name": "python",
      "nbconvert_exporter": "python",
      "pygments_lexer": "ipython3",
      "version": "3.9.7"
    },
    "colab": {
      "provenance": []
    },
    "accelerator": "TPU",
    "gpuClass": "standard"
  },
  "nbformat": 4,
  "nbformat_minor": 5
}